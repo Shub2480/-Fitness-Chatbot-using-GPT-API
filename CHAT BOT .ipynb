{
 "cells": [
  {
   "cell_type": "code",
   "execution_count": 20,
   "id": "c4fe0d1e",
   "metadata": {},
   "outputs": [],
   "source": [
    "import openai\n",
    "import os"
   ]
  },
  {
   "cell_type": "code",
   "execution_count": 75,
   "id": "3f3ebd5c",
   "metadata": {},
   "outputs": [],
   "source": [
    "api_key = \"API-KEY\""
   ]
  },
  {
   "cell_type": "code",
   "execution_count": 76,
   "id": "3cec85ca",
   "metadata": {},
   "outputs": [],
   "source": [
    "import openai\n",
    "\n",
    "openai.api_key = api_key"
   ]
  },
  {
   "cell_type": "code",
   "execution_count": 85,
   "id": "19557a46",
   "metadata": {},
   "outputs": [],
   "source": [
    "\n",
    "\n",
    "def chatcompletion(prompt,model_engine = \"gpt-3.5-turbo\"):\n",
    "    messages=[{'role':\"assistant\",\"content\":prompt}]\n",
    "\n",
    "    # Generate some text using the API\n",
    "\n",
    "    completions = openai.ChatCompletion.create(\n",
    "        model=model_engine,\n",
    "        messages=messages,\n",
    "        temperature=0.5,\n",
    "    )\n",
    "    response = completions.choices[0].message[\"content\"]\n",
    "    return (response)"
   ]
  },
  {
   "cell_type": "code",
   "execution_count": 86,
   "id": "c43ad930",
   "metadata": {},
   "outputs": [
    {
     "name": "stdout",
     "output_type": "stream",
     "text": [
      "The recommended daily protein intake for men and women varies depending on factors such as age, weight, and physical activity level. However, as a general guideline, the recommended daily protein intake for adults is:\n",
      "\n",
      "- Men: 56 grams per day\n",
      "- Women: 46 grams per day\n",
      "\n",
      "It is important to note that these are minimum recommendations and may not be sufficient for individuals with high levels of physical activity or specific health conditions. It is always best to consult with a healthcare professional or registered dietitian to determine the appropriate protein intake for your individual needs.\n"
     ]
    }
   ],
   "source": [
    "reply=chatcompletion('how much protein needed per day for men and women')\n",
    "print(reply)"
   ]
  },
  {
   "cell_type": "code",
   "execution_count": null,
   "id": "adef6b7f",
   "metadata": {},
   "outputs": [],
   "source": []
  },
  {
   "cell_type": "code",
   "execution_count": 96,
   "id": "143bc551",
   "metadata": {},
   "outputs": [],
   "source": [
    "chat_history=[{'role':'system','content':\"\"\"\n",
    "you are a bot and fitness trainer, nutritionist and you know many things of the particular domain\n",
    "you should not reply anything else that is not related to this domain\n",
    "\n",
    "Fitness:\\\n",
    "Cardiovascular exercise\\\n",
    "Strength training\\\n",
    "Endurance training\\\n",
    "Flexibility training\\\n",
    "HIIT (High Intensity Interval Training)\\\n",
    "CrossFit\\\n",
    "Pilates\\\n",
    "Yoga\\\n",
    "Sports-specific training\\\n",
    "Nutrition:\\\n",
    "Macronutrients (carbohydrates, proteins, and fats)\\\n",
    "Micronutrients (vitamins and minerals)\\\n",
    "Caloric intake\\\n",
    "Meal planning\\\n",
    "Supplementation\\\n",
    "Hydration\\\n",
    "Dietary restrictions (e.g. gluten-free, vegan, vegetarian)\\\n",
    "Nutrient timing\\\n",
    "Exercises:\\\n",
    "Squats\\\n",
    "Lunges\\\n",
    "Push-ups\\\n",
    "Pull-ups\\\n",
    "Deadlifts\\\n",
    "Bench press\\\n",
    "Overhead press\\\n",
    "Rows\\\n",
    "Planks\\\n",
    "Crunches\\\n",
    "and much more things you know but only related to fitness domain\n",
    "\n",
    "As mentioned earlier, create replys that focus on your specific domain. \n",
    "\n",
    "\"\"\" }]"
   ]
  },
  {
   "cell_type": "code",
   "execution_count": 97,
   "id": "94a88bea",
   "metadata": {},
   "outputs": [],
   "source": [
    "\n",
    "def chatcompletion(chat,model_engine = \"gpt-3.5-turbo\"):\n",
    "\n",
    "    # Generate some text using the API\n",
    "\n",
    "    completions = openai.ChatCompletion.create(\n",
    "        model=model_engine,\n",
    "        messages=chat,\n",
    "        temperature=0,\n",
    "    )\n",
    "    response = completions.choices[0].message[\"content\"]\n",
    "    return response"
   ]
  },
  {
   "cell_type": "code",
   "execution_count": 98,
   "id": "f6125849",
   "metadata": {},
   "outputs": [],
   "source": [
    "def chat(prompt):\n",
    "    chat_history.append({'role': \"user\" , \"content\" : prompt})\n",
    "    response=chatcompletion(chat_history)\n",
    "    chat_history.append({'role': \"assistant\" , \"content\" : response})\n",
    "    return response"
   ]
  },
  {
   "cell_type": "code",
   "execution_count": null,
   "id": "19e677f2",
   "metadata": {},
   "outputs": [],
   "source": [
    "\n",
    "    "
   ]
  },
  {
   "cell_type": "code",
   "execution_count": null,
   "id": "6d4c4e45",
   "metadata": {},
   "outputs": [],
   "source": [
    "print(\"How can I help you\")\n",
    "while True:\n",
    "    prompt=input(\"User : \")\n",
    "    print(\"50*-\")\n",
    "    print()\n",
    "    \n",
    "    if prompt=='quit':\n",
    "        \n",
    "        break\n",
    "    \n",
    "    response=chat(prompt)\n",
    "    \n",
    "    print(\"BOT : \",response)\n",
    "    print(\"50*-\")\n",
    "    print()"
   ]
  }
 ],
 "metadata": {
  "kernelspec": {
   "display_name": "Python 3 (ipykernel)",
   "language": "python",
   "name": "python3"
  },
  "language_info": {
   "codemirror_mode": {
    "name": "ipython",
    "version": 3
   },
   "file_extension": ".py",
   "mimetype": "text/x-python",
   "name": "python",
   "nbconvert_exporter": "python",
   "pygments_lexer": "ipython3",
   "version": "3.9.7"
  }
 },
 "nbformat": 4,
 "nbformat_minor": 5
}
